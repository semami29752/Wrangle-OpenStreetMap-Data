{
 "cells": [
  {
   "cell_type": "markdown",
   "metadata": {},
   "source": [
    "# OpenStreetMap Case Study"
   ]
  },
  {
   "cell_type": "markdown",
   "metadata": {},
   "source": [
    "In this notebook, I am going to look at an area from [OpenStreetMap](http://www.openstreetmap.com) website and use data wrangling techniques to assess the quality of the dataset on a selected area, clean the data, and also run SQL queries to answer some interesting questions about the area."
   ]
  },
  {
   "cell_type": "markdown",
   "metadata": {},
   "source": [
    "## Choosing the Map Area"
   ]
  },
  {
   "cell_type": "markdown",
   "metadata": {},
   "source": [
    "Since I have been living in **Portland, OR** for the past 5 years and this is a city that I have had great experiences in, I decided to choose this area for this project. I downloaded the dataset in XML format from the list of *\"most popular extracts\"* that exist on the OpenStreetMap website. Below is the link to the dataset file used in this case study.\n",
    "\n",
    "[https://mapzen.com/data/metro-extracts/metro/portland_oregon/](https://mapzen.com/data/metro-extracts/metro/portland_oregon/)"
   ]
  },
  {
   "cell_type": "markdown",
   "metadata": {},
   "source": [
    "## Problems Encountered in the Map"
   ]
  },
  {
   "cell_type": "markdown",
   "metadata": {},
   "source": [
    "Since the dataset selected for this case study is very large (about 1.6 GB), I used the code below (adapted from Udacity Data Wrangling course) to extract a sample dataset from the file and assess the quality of different fields."
   ]
  },
  {
   "cell_type": "code",
   "execution_count": 72,
   "metadata": {
    "collapsed": true
   },
   "outputs": [],
   "source": [
    "# Yield element if it is the right type of tag\n",
    "def get_element(osm_file, tags=('node', 'way', 'relation')):\n",
    "\n",
    "    context = iter(ET.iterparse(osm_file, events=('start', 'end')))\n",
    "    _, root = next(context)\n",
    "    for event, elem in context:\n",
    "        if event == 'end' and elem.tag in tags:\n",
    "            yield elem\n",
    "            root.clear()\n",
    "            \n",
    "# Write a section of the dataset to a new XML file\n",
    "def extract_sample(SAMPLE_FILE, OSM_FILE):\n",
    "    with open(SAMPLE_FILE, 'wb') as output:\n",
    "        output.write('<?xml version=\"1.0\" encoding=\"UTF-8\"?>\\n')\n",
    "        output.write('<osm>\\n  ')\n",
    "\n",
    "        # Write every 10th top level element\n",
    "        for i, element in enumerate(get_element(OSM_FILE)):\n",
    "            if i % 10 == 0:\n",
    "                output.write(ET.tostring(element, encoding='utf-8'))"
   ]
  },
  {
   "cell_type": "markdown",
   "metadata": {},
   "source": [
    "Looking at different fields using the sample dataset, I found a few issues with the dataset that I am going to discuss next."
   ]
  },
  {
   "cell_type": "markdown",
   "metadata": {},
   "source": [
    "### *1. Way Elements With Less Than Two Nodes*"
   ]
  },
  {
   "cell_type": "markdown",
   "metadata": {},
   "source": [
    "According to OpenStreetMap documentation, \"A way is an ordered list of nodes which normally also has at least one tag or is included within a Relation. A way can have between 2 and 2,000 nodes, although it's possible that faulty ways with zero or a single node exist.\"\n",
    "Using the following function, I found that there were **46** \"faulty\" way elements in the dataset that had less than 2 nodes. This is something that needs to be fixed to make the dataset more complete and reliable.\n"
   ]
  },
  {
   "cell_type": "code",
   "execution_count": 75,
   "metadata": {
    "collapsed": true
   },
   "outputs": [],
   "source": [
    "# Determine the number of way elements that have less than 2 nodes\n",
    "def incomplete_ways(osm_file):\n",
    "    incomplete_way_count = 0\n",
    "\n",
    "    for event, element in ET.iterparse(osm_file):\n",
    "        num_nds = 0\n",
    "        if element.tag == 'way':\n",
    "            for nd in element.iter('nd'):\n",
    "                num_nds += 1\n",
    "\n",
    "            if num_nds < 2:\n",
    "                incomplete_way_count += 1"
   ]
  },
  {
   "cell_type": "markdown",
   "metadata": {},
   "source": [
    "### *2. Inconsistent City Names*"
   ]
  },
  {
   "cell_type": "markdown",
   "metadata": {},
   "source": [
    "Looking through the sample dataset, I found out that the extract that I downloaded from the website includes not only Portland area, but also several small towns and suburbs around Portland in Oregon (such as Beaverton, Gresham, Lake Oswego) and also some small towns across the border in Washington state (such as Vancouver and Camas).\n",
    "\n",
    "The issue with this field was that in several cases, mutliple names were used to refer to the same place. For example, **portland** - **Portland** - **Portland, OR** - and **Portland, Oregon** were all names that existed in the addr:city field. Some other examples of inconsistencies in city names included \"**St. Helens** - **St Helens** - **Saint Helens**\", \"**Beaverton, OR** - **Beaverton**\". The following function was used to make the city names more consistent in the dataset."
   ]
  },
  {
   "cell_type": "code",
   "execution_count": 76,
   "metadata": {
    "collapsed": true
   },
   "outputs": [],
   "source": [
    "#Function to make the city names consistent.\n",
    "def clean_cities(element):\n",
    "    if element.tag == \"node\" or element.tag == \"way\":\n",
    "        for tag in element.iter('tag'):            \n",
    "            if tag.attrib[\"k\"] == \"addr:city\":\n",
    "             # Find city names with \".\" or \",\" followed by characters, delete the extra part \n",
    "                tag.attrib['v'] = re.sub(r',\\s*.*$|\\.', \"\", tag.attrib['v'])\n",
    "            # Capitalize the first letter of all cities\n",
    "                tag.attrib['v'] = tag.attrib['v'].title()\n",
    "            # Replacing Saint with St to deal with a couple of inconsistent instances\n",
    "                if \"Saint\" in tag.attrib['v']:\n",
    "                    tag.attrib['v'] = tag.attrib['v'].replace(\"Saint\", \"St\")"
   ]
  },
  {
   "cell_type": "markdown",
   "metadata": {},
   "source": [
    "### *3. Multiple Housenumbers in One Record*"
   ]
  },
  {
   "cell_type": "markdown",
   "metadata": {},
   "source": [
    "As I was checking the \"addr:housenumber\" tag in nodes and ways, I noticed that a big portion of data included multiple numbers in this tag as the value. This is probably due to the fact that these nodes and ways refer to a complex with multiple apartment numbers, or an area with buildings adjacent to each other that are included in one node or one way. These values appeared in three formats in \"addr:housenumber\" tag, e.g. \"*813,815,817*\" - \"*1222-1242*\" - \"*917;919*\".\n",
    "\n",
    "Since in relational databases, we cannot have a record with mutliple values in one field, this was an issue that needed to be fixed in the dataset. The following function was used to split the value with multiple numbers into individual numbers, remove the tag with multiple numbers, and then append mutliple tags to the parent node/way, one tag for each number. For the values that represented a range of numbers (e.g.\"*1222-1242*\"), the code splits the value into two numbers and attaches \"*s*\" to the first number and \"*e*\" to the second number."
   ]
  },
  {
   "cell_type": "code",
   "execution_count": 22,
   "metadata": {
    "collapsed": true
   },
   "outputs": [],
   "source": [
    "# Function to check if a value is a list/range of numbers.\n",
    "def is_list_of_numbers (num):\n",
    "    pattern = re.compile(r'[,;-](\\s?)[0-9]') \n",
    "    m = pattern.search(num)\n",
    "    if m:\n",
    "        return True\n",
    "    else:\n",
    "        return False\n",
    "    \n",
    "#Function to split the housenumbers consisting of multiple numbers\n",
    "#into a list of individual numbers.\n",
    "def separate(x, separators = [\",\", \";\"]):\n",
    "    for separator in separators:\n",
    "        #find the value with separatros \",\" or \";\" in them\n",
    "        if  separator in x:\n",
    "            x = x.replace(\" \", \"\")\n",
    "            separate_nums = x.split(separator)\n",
    "            return separate_nums\n",
    "    # If the value is a range of numbers with \"-\" separating the numbers split the value at \"-\"   \n",
    "    if \"-\" in x:\n",
    "        x = x.replace(\" \", \"\")  #remove any extra spaces in the value\n",
    "        separate_nums = x.split(\"-\")\n",
    "        separate_nums[0] += \"s\"  #Attach \"s\" to the first number\n",
    "        separate_nums[1] += \"e\"  #Attach \"e\" to the second number\n",
    "        return separate_nums\n",
    "    \n",
    "#Function to remove tags with mixed housenumber and append tags\n",
    "#with individual housenumbers.\n",
    "def clean_housenumber(element):\n",
    "        if element.tag == 'way' or element.tag == 'node':\n",
    "            for tag in element.iter('tag'):\n",
    "                if tag.attrib[\"k\"] == \"addr:housenumber\" and is_list_of_numbers(tag.attrib[\"v\"]):\n",
    "                    element.remove(tag)   #remove the tag with addr:housenumber as value\n",
    "                    #append tags to the parent node/way with split up housenumbers as the value\n",
    "                    for num in separate(tag.attrib[\"v\"]):\n",
    "                        element.append(ET.Element(\"tag\", {\"k\":\"addr:housenumber\", \"v\":num}))\n"
   ]
  },
  {
   "cell_type": "markdown",
   "metadata": {},
   "source": [
    "### *4. Inconsistent State Names*"
   ]
  },
  {
   "cell_type": "markdown",
   "metadata": {},
   "source": [
    "Another inconsistency noticed in the dataset was related to \"addr:state\" tag value in several nodes and ways. The dataset included names such as **Oregon, OR, or, Or** and also **Washington, WA, Wa** in the state tag. Using the function below, I converted all the state names so that they are either \"OR\" or \"WA\". "
   ]
  },
  {
   "cell_type": "code",
   "execution_count": 77,
   "metadata": {
    "collapsed": true
   },
   "outputs": [],
   "source": [
    "#Function to make the state names consistent.\n",
    "def clean_state(element):\n",
    "    OR_pattern = re.compile(r'[Oo][Rr]') #Find all the patterns that refer to Oregon in the dataset\n",
    "    WA_pattern = re.compile(r'[Ww][Aa]') #Find all the patterns that refer to Washington in the dataset\n",
    "\n",
    "    if element.tag == \"node\" or element.tag == \"way\":\n",
    "        for tag in element.iter(\"tag\"):\n",
    "            if tag.attrib[\"k\"] == \"addr:state\":\n",
    "                OR_match = OR_pattern.search(tag.attrib['v'])\n",
    "                WA_match = WA_pattern.search(tag.attrib['v'])\n",
    "                if tag.attrib['v'] != \"OR\" and not WA_match:\n",
    "                    tag.attrib['v'] = 'OR'\n",
    "                if tag.attrib['v'] != \"WA\" and not OR_match:\n",
    "                    tag.attrib['v'] = 'WA'"
   ]
  },
  {
   "cell_type": "markdown",
   "metadata": {},
   "source": [
    "### *5. Street Names with Inconsistent Directions*"
   ]
  },
  {
   "cell_type": "markdown",
   "metadata": {},
   "source": [
    "Looking through the street name values for \"addr:street\" tags, I found out that street directions have been refered to in different ways. For example, we see \"**N.W.**\" - \"**NW**\" - \"**Northwest**\" all refering to the same direction. This field is one of the fields that is used later in one of the queries run on the dataset, so I decided to clean this field as well by mapping all the direction names to a standard direction name as follows:"
   ]
  },
  {
   "cell_type": "code",
   "execution_count": 78,
   "metadata": {
    "collapsed": true
   },
   "outputs": [],
   "source": [
    "#Function to update a name using the provided mapping\n",
    "def update_name(name, mapping):\n",
    "    for key in mapping:\n",
    "        if name.startswith(key):\n",
    "            name = name.replace(key, mapping[key])\n",
    "            break\n",
    "    return name\n",
    "\n",
    "mapping = {\"W \": \"West \", \"W.\": \"West\", \"S \": \"South \", \"S.\": \"South\", \"N \": \"North \", \"N.\" : \"North\", \"E \": \"East \", \"E.\": \"East\", \"SE\": \"Southeast\", \"S.E.\": \"Southeast\", \"NW\": \"Northwest\", \"N.W.\": \"Northwest \", \"N.E.\": \"Northeast\", \"NE\": \"Northeast\", \"SW\": \"Southwest\", \"S.W.\": \"Southwest\"}\n",
    "\n",
    "#Function to make the street direction names consistent (West, Northeast, Northwest, South, etc.)\n",
    "def clean_area(element):\n",
    "    if element.tag == \"node\" or element.tag == \"way\":\n",
    "        for tag in element.iter(\"tag\"):\n",
    "            if tag.attrib[\"k\"] == \"addr:street\":\n",
    "                tag.attrib[\"v\"] = update_name(tag.attrib[\"v\"], mapping)"
   ]
  },
  {
   "cell_type": "markdown",
   "metadata": {},
   "source": [
    "I also investigated the data to make sure there were no problematic characters in any tag values and also to make sure that all timestamps have the correct format. No issues were found in those fields. Below are the functions that were used for this investigation."
   ]
  },
  {
   "cell_type": "code",
   "execution_count": 79,
   "metadata": {
    "collapsed": true
   },
   "outputs": [],
   "source": [
    "# Function to create a dictionary of all the tag values with problematic characters \n",
    "# (adapted from Udacity Data Wrangling course)\n",
    "def problem_char(osm_file):\n",
    "    problemchars = re.compile(r'[=\\+/&<>;\\'\"\\?%#$@\\,\\. \\t\\r\\n]')\n",
    "    problem_dict = defaultdict(int)\n",
    "\n",
    "    for event, element in ET.iterparse(osm_file):\n",
    "        if element.tag == \"tag\" and element.attrib[\"k\"] is not None:\n",
    "            problem_m = problemchars.search(element.attrib[\"k\"])\n",
    "            if problem_m:\n",
    "                problem_dict[problem_m.group()] += 1"
   ]
  },
  {
   "cell_type": "code",
   "execution_count": 80,
   "metadata": {
    "collapsed": true
   },
   "outputs": [],
   "source": [
    "# Function to create a dictionary of all the timestamps that do not follow the given \n",
    "# pattern (i.e. 2010-03-23T19:00:46Z)\n",
    "def check_timestamp(osm_file):\n",
    "    timestamp = re.compile(r'[2000-2018]-[0-1][0-9]-[0-3][0-9]T\\d\\d:\\d\\d:\\d\\dZ')\n",
    "    time_dict = defaultdict(int)\n",
    "    tags = [\"way\", \"node\", \"relation\"]\n",
    "\n",
    "    for event, element in ET.iterparse(osm_file):\n",
    "        if element.tag in tags:\n",
    "            time_m = timestamp.search(element.attrib[\"timestamp\"])\n",
    "            if time_m:\n",
    "                time_dict[time_m.group()] += 1"
   ]
  },
  {
   "cell_type": "markdown",
   "metadata": {},
   "source": [
    "## Converting the Dataset to CSV Files"
   ]
  },
  {
   "cell_type": "markdown",
   "metadata": {},
   "source": [
    "After defining the required functions to clean some of the problematic fields in the dataset, it is time to convert the XML file to CSV files that are going to be used in queries on the dataset to answer some interesting questions about the area. Based on the recommendation from the course, after cleaning the data, five CSV files were created including \"ways.csv\", \"nodes.csv\", \"nodes_tags\", \"ways_tags\", and \"ways_nodes\" from the data using the dictionaries shaped for each element (adapted from the course). The code below was adapted from the Data Wrangling case study and cleaning functions were added to it."
   ]
  },
  {
   "cell_type": "code",
   "execution_count": 81,
   "metadata": {
    "collapsed": true
   },
   "outputs": [],
   "source": [
    "NODES_PATH = \"nodes.csv\"\n",
    "NODE_TAGS_PATH = \"nodes_tags.csv\"\n",
    "WAYS_PATH = \"ways.csv\"\n",
    "WAY_NODES_PATH = \"ways_nodes.csv\"\n",
    "WAY_TAGS_PATH = \"ways_tags.csv\"\n",
    "\n",
    "NODE_FIELDS = ['id', 'lat', 'lon', 'user', 'uid', 'version', 'changeset', 'timestamp']\n",
    "NODE_TAGS_FIELDS = ['id', 'key', 'value', 'type']\n",
    "WAY_FIELDS = ['id', 'user', 'uid', 'version', 'changeset', 'timestamp']\n",
    "WAY_TAGS_FIELDS = ['id', 'key', 'value', 'type']\n",
    "WAY_NODES_FIELDS = ['id', 'node_id', 'position']\n",
    "\n",
    "# Function to create a dictionary for each way and node element of the XML file\n",
    "def shape_element(element, default_tag_type='regular'):\n",
    "    \n",
    "    # clean the element before creating the dictionary\n",
    "    clean_cities(element)\n",
    "    clean_housenumber(element)\n",
    "    clean_state(element)\n",
    "    clean_area(element)\n",
    "    \n",
    "    node_attribs = {}\n",
    "    way_attribs = {}\n",
    "    way_nodes = []\n",
    "    tags = []\n",
    "\n",
    "    if element.tag == 'node':\n",
    "        # create a dictionary for each node to contain node attributes\n",
    "        node_attribs = {\"id\": element.attrib[\"id\"], \"user\": element.attrib[\"user\"], \"uid\": element.attrib[\"uid\"], \"version\": element.attrib[\"version\"], \"lat\": element.attrib[\"lat\"], \"lon\": element.attrib[\"lon\"], \"timestamp\": element.attrib[\"timestamp\"], \"changeset\": element.attrib[\"changeset\"]}\n",
    "        # create a dictionary to contain node tags with the course instructions (separating the characters before\n",
    "        # and after \":\")\n",
    "        for tag in element.iter('tag'):\n",
    "            if \":\" not in tag.attrib[\"k\"]:\n",
    "                key1 = tag.attrib[\"k\"]\n",
    "                type1 = default_tag_type\n",
    "            else:\n",
    "                key1 = tag.attrib[\"k\"].split(\":\", 1)[1]\n",
    "                type1 = tag.attrib[\"k\"].split(\":\", 1)[0]\n",
    "            tags.append({\"id\": element.attrib[\"id\"], \"key\": key1, \"value\": tag.attrib[\"v\"], \"type\": type1})\n",
    "\n",
    "        return {'node': node_attribs, 'node_tags': tags}\n",
    "\n",
    "    elif element.tag == 'way':\n",
    "        # create a dictionary for each way to contain way attributes\n",
    "        way_attribs = {\"id\": element.attrib[\"id\"], \"user\": element.attrib[\"user\"], \"uid\": element.attrib[\"uid\"], \"version\": element.attrib[\"version\"], \"timestamp\": element.attrib[\"timestamp\"], \"changeset\": element.attrib[\"changeset\"]}\n",
    "        # create a dictionary to contain way tags with the course instructions (separating the characters before\n",
    "        # and after \":\")\n",
    "        for tag in element.iter('tag'):\n",
    "            if \":\" not in tag.attrib[\"k\"]:\n",
    "                key1 = tag.attrib[\"k\"]\n",
    "                type1 = default_tag_type\n",
    "            else:\n",
    "                key1 = tag.attrib[\"k\"].split(\":\", 1)[1]\n",
    "                type1 = tag.attrib[\"k\"].split(\":\", 1)[0]\n",
    "            tags.append({\"id\": element.attrib[\"id\"], \"key\": key1, \"value\": tag.attrib[\"v\"], \"type\": type1})\n",
    "            \n",
    "        position = 0 # initializing the variable to be used as the position of each node tag within a way element\n",
    "        # shape the way nodes key of the way dictionary\n",
    "        for nd in element.iter('nd'):     \n",
    "            way_nodes.append({\"id\": element.attrib[\"id\"], \"node_id\": nd.attrib[\"ref\"], \"position\": counter})\n",
    "            position += 1\n",
    "\n",
    "        return {'way': way_attribs, 'way_nodes': way_nodes, 'way_tags': tags}"
   ]
  },
  {
   "cell_type": "code",
   "execution_count": 82,
   "metadata": {
    "collapsed": true
   },
   "outputs": [],
   "source": [
    "# Extend csv.DictWriter to handle Unicode input (adapted from the Data Wrangling course)\n",
    "class UnicodeDictWriter(csv.DictWriter, object):\n",
    "\n",
    "    def writerow(self, row):\n",
    "        super(UnicodeDictWriter, self).writerow({\n",
    "            k: (v.encode('utf-8') if isinstance(v, unicode) else v) for k, v in row.iteritems()\n",
    "        })\n",
    "\n",
    "    def writerows(self, rows):\n",
    "        for row in rows:\n",
    "            self.writerow(row)\n",
    "\n",
    "# Iteratively process each XML element and write to csv(s)\n",
    "def process_map(file_in):\n",
    "\n",
    "    with codecs.open(NODES_PATH, 'w') as nodes_file, \\\n",
    "         codecs.open(NODE_TAGS_PATH, 'w') as nodes_tags_file, \\\n",
    "         codecs.open(WAYS_PATH, 'w') as ways_file, \\\n",
    "         codecs.open(WAY_NODES_PATH, 'w') as way_nodes_file, \\\n",
    "         codecs.open(WAY_TAGS_PATH, 'w') as way_tags_file:\n",
    "\n",
    "        nodes_writer = UnicodeDictWriter(nodes_file, NODE_FIELDS)\n",
    "        node_tags_writer = UnicodeDictWriter(nodes_tags_file, NODE_TAGS_FIELDS)\n",
    "        ways_writer = UnicodeDictWriter(ways_file, WAY_FIELDS)\n",
    "        way_nodes_writer = UnicodeDictWriter(way_nodes_file, WAY_NODES_FIELDS)\n",
    "        way_tags_writer = UnicodeDictWriter(way_tags_file, WAY_TAGS_FIELDS)\n",
    "\n",
    "        for element in get_element(file_in, tags=('node', 'way')):\n",
    "\n",
    "            el = shape_element(element)\n",
    "\n",
    "            if el:\n",
    "\n",
    "                if element.tag == 'node':\n",
    "                    nodes_writer.writerow(el['node'])\n",
    "                    node_tags_writer.writerows(el['node_tags'])\n",
    "                elif element.tag == 'way':\n",
    "                    ways_writer.writerow(el['way'])\n",
    "                    way_nodes_writer.writerows(el['way_nodes'])\n",
    "                    way_tags_writer.writerows(el['way_tags'])\n"
   ]
  },
  {
   "cell_type": "markdown",
   "metadata": {},
   "source": [
    "The CSV files were written WITHOUT header. The reason is that importing CSV tables with headers into SQL tables that were created with INTEGER fields in the schema will lead to a \"Datatype Mismatch\" error."
   ]
  },
  {
   "cell_type": "markdown",
   "metadata": {},
   "source": [
    "## Dataset Statistics"
   ]
  },
  {
   "cell_type": "markdown",
   "metadata": {},
   "source": [
    "Below you can find some statistics about the data extract from the OpenStreetMap website."
   ]
  },
  {
   "cell_type": "code",
   "execution_count": 43,
   "metadata": {
    "collapsed": true
   },
   "outputs": [],
   "source": [
    "portland_data = 'portland_oregon.osm'"
   ]
  },
  {
   "cell_type": "markdown",
   "metadata": {},
   "source": [
    "### *XML File Size in MegaBytes*"
   ]
  },
  {
   "cell_type": "code",
   "execution_count": 45,
   "metadata": {},
   "outputs": [
    {
     "data": {
      "text/plain": [
       "1609"
      ]
     },
     "execution_count": 45,
     "metadata": {},
     "output_type": "execute_result"
    }
   ],
   "source": [
    "import os\n",
    "os.path.getsize(portland_data)/1000000"
   ]
  },
  {
   "cell_type": "markdown",
   "metadata": {},
   "source": [
    "### *Number of Elements in the Data*"
   ]
  },
  {
   "cell_type": "code",
   "execution_count": 47,
   "metadata": {
    "scrolled": true
   },
   "outputs": [
    {
     "name": "stdout",
     "output_type": "stream",
     "text": [
      "defaultdict(<type 'int'>, {'node': 6723229, 'nd': 7747536, 'bounds': 1, 'member': 69447, 'tag': 4996693, 'relation': 6602, 'way': 874736, 'osm': 1})\n"
     ]
    }
   ],
   "source": [
    "from collections import defaultdict\n",
    "\n",
    "tag_dict = defaultdict(int)\n",
    "\n",
    "for event, element in ET.iterparse(portland_data):\n",
    "    tag_dict[element.tag] += 1\n",
    "\n",
    "print tag_dict"
   ]
  },
  {
   "cell_type": "markdown",
   "metadata": {},
   "source": [
    "### *Number of Unique Users*"
   ]
  },
  {
   "cell_type": "code",
   "execution_count": 46,
   "metadata": {},
   "outputs": [
    {
     "name": "stdout",
     "output_type": "stream",
     "text": [
      "1475\n"
     ]
    }
   ],
   "source": [
    "import xml.etree.cElementTree as ET\n",
    "\n",
    "users = set()\n",
    "\n",
    "for event, element in ET.iterparse(portland_data):\n",
    "    if \"uid\" in element.attrib:\n",
    "        users.add(element.attrib[\"uid\"])\n",
    "\n",
    "print len(users)"
   ]
  },
  {
   "cell_type": "markdown",
   "metadata": {},
   "source": [
    "### *Number of Updates to Dataset Per Year (Based on Timestamp)*"
   ]
  },
  {
   "cell_type": "code",
   "execution_count": 55,
   "metadata": {},
   "outputs": [
    {
     "name": "stdout",
     "output_type": "stream",
     "text": [
      "defaultdict(<type 'int'>, {'2009': 125498, '2008': 1538, '2007': 1398, '2015': 4994555, '2014': 220524, '2017': 453091, '2016': 587919, '2011': 486502, '2010': 127106, '2013': 136582, '2012': 469854})\n"
     ]
    }
   ],
   "source": [
    "time_dict = defaultdict(int)\n",
    "tags = [\"node\", \"way\", \"relation\"]\n",
    "for event, element in ET.iterparse(portland_data):\n",
    "    if element.tag in tags:\n",
    "        time_dict[element.attrib[\"timestamp\"][:4]] += 1\n",
    "print time_dict"
   ]
  },
  {
   "cell_type": "code",
   "execution_count": 88,
   "metadata": {},
   "outputs": [
    {
     "data": {
      "image/png": "[encoded data removed]",
      "text/plain": [
       "<IPython.core.display.Image object>"
      ]
     },
     "execution_count": 88,
     "metadata": {
      "image/png": {
       "height": 400,
       "width": 600
      }
     },
     "output_type": "execute_result"
    }
   ],
   "source": [
    "from IPython.display import Image\n",
    "Image(filename = \"updates.png\", width = 600, height = 400)"
   ]
  },
  {
   "cell_type": "markdown",
   "metadata": {},
   "source": [
    "It is interesting to see that in 2015, suddenly a huge number of updates were made to the dataset and then again the number of updates went down"
   ]
  },
  {
   "cell_type": "markdown",
   "metadata": {},
   "source": [
    "### *Distribution of Number of Nodes per Way*"
   ]
  },
  {
   "cell_type": "code",
   "execution_count": 50,
   "metadata": {
    "collapsed": true
   },
   "outputs": [],
   "source": [
    "way_nodes_Query = '''\n",
    "SELECT num_of_nodes, count(*) FROM\n",
    "    (SELECT DISTINCT(ways_nodes.id), num_of_nodes FROM ways_nodes\n",
    "    JOIN\n",
    "    (SELECT count(*) as num_of_nodes, id FROM ways_nodes\n",
    "    GROUP BY id\n",
    "    ) as sub\n",
    "    sub.id = ways_nodes.id) as i\n",
    "GROUP BY num_of_nodes;\n",
    "'''"
   ]
  },
  {
   "cell_type": "code",
   "execution_count": 85,
   "metadata": {},
   "outputs": [
    {
     "data": {
      "image/jpeg": "[encoded data removed]",
      "text/plain": [
       "<IPython.core.display.Image object>"
      ]
     },
     "execution_count": 85,
     "metadata": {
      "image/jpeg": {
       "height": 600,
       "width": 1000
      }
     },
     "output_type": "execute_result"
    }
   ],
   "source": [
    "\n",
    "Image(filename = \"Distribution.jpg\", width = 1000, height = 600)"
   ]
  },
  {
   "cell_type": "markdown",
   "metadata": {},
   "source": [
    "As the chart above shows, most of way elements are made of 5 nodes, and after that ways with 7 nodes and 9 nodes have the most frequency in the dataset."
   ]
  },
  {
   "cell_type": "markdown",
   "metadata": {},
   "source": [
    "## Data Queries "
   ]
  },
  {
   "cell_type": "markdown",
   "metadata": {},
   "source": [
    "In order to run queries, CSV files were imported into SQL tables and **sqlite3** library was used to connect the Python code to the database and run the queries. Below you can find the queries that were run on the dataset and their results.\n",
    "\n",
    "Portland is an area that is known for its food and breweries. Walking in different parts of the city, you can find all kinds of restaurants and bars that serve tasty food and great beers. In this section of the project, I ran some queries to find the number of breweries in the area (including the suburbs), number of pubs and bars in NW Portland (where I live) and the top fast food restaurants in the area."
   ]
  },
  {
   "cell_type": "code",
   "execution_count": 1,
   "metadata": {
    "collapsed": true
   },
   "outputs": [],
   "source": [
    "import sqlite3\n",
    "\n",
    "DB_file = 'portland_DB'\n",
    "\n",
    "db = sqlite3.connect(DB_file)\n",
    "c = db.cursor()"
   ]
  },
  {
   "cell_type": "code",
   "execution_count": 2,
   "metadata": {
    "collapsed": true
   },
   "outputs": [],
   "source": [
    "# Function to print the results of SQL in a readable way\n",
    "def print_query (result):\n",
    "    for row in result:\n",
    "        x = \"\"\n",
    "        for item in row:\n",
    "            x += str(item) + \"  |  \"\n",
    "        print  x"
   ]
  },
  {
   "cell_type": "markdown",
   "metadata": {},
   "source": [
    "### *How many of bars, restaurants, and pubs in the area are breweries? *"
   ]
  },
  {
   "cell_type": "code",
   "execution_count": 61,
   "metadata": {
    "collapsed": true
   },
   "outputs": [],
   "source": [
    "brewery_Query = '''\n",
    "SELECT count(DISTINCT(i.id)) FROM\n",
    "    (SELECT * FROM nodes_tags UNION ALL SELECT * FROM ways_tags) as i\n",
    "    JOIN\n",
    "    (SELECT DISTINCT(id) FROM\n",
    "        (SELECT * FROM nodes_tags UNION ALL SELECT * FROM ways_tags) as i\n",
    "    WHERE key = 'amenity'\n",
    "    AND (value = 'restaurant' OR value = 'pub' OR value = 'bar')\n",
    "    ) as j\n",
    "    ON i.id = j.id\n",
    "WHERE (key = 'microbrewery' AND value = 'yes') OR (key = 'name' AND value LIKE '%brew%');\n",
    "'''"
   ]
  },
  {
   "cell_type": "code",
   "execution_count": 60,
   "metadata": {},
   "outputs": [
    {
     "name": "stdout",
     "output_type": "stream",
     "text": [
      "69  |  \n"
     ]
    }
   ],
   "source": [
    "c.execute(brewery_Query)\n",
    "rows = c.fetchall()\n",
    "print_query(rows)"
   ]
  },
  {
   "cell_type": "markdown",
   "metadata": {},
   "source": [
    "### *How many pubs and bars are in NW Portland?*"
   ]
  },
  {
   "cell_type": "code",
   "execution_count": 63,
   "metadata": {
    "collapsed": true
   },
   "outputs": [],
   "source": [
    "NW_Query = '''\n",
    "SELECT count(*) FROM\n",
    "        (SELECT * FROM nodes_tags UNION ALL SELECT * FROM ways_tags) as i\n",
    "        JOIN\n",
    "        (SELECT DISTINCT(id) FROM\n",
    "            (SELECT * FROM nodes_tags UNION ALL SELECT * FROM ways_tags) as i\n",
    "        WHERE key in ('city', 'amenity') AND (value in ('Portland', 'pub') OR value in ('Portland', 'bar'))\n",
    "        GROUP BY i.id\n",
    "        HAVING count(*) = 2\n",
    "        ) as j\n",
    "        ON i.id = j.id\n",
    "WHERE i.key = 'street' AND i.value LIKE '%Northwest%';\n",
    "'''"
   ]
  },
  {
   "cell_type": "code",
   "execution_count": 64,
   "metadata": {},
   "outputs": [
    {
     "name": "stdout",
     "output_type": "stream",
     "text": [
      "51  |  \n"
     ]
    }
   ],
   "source": [
    "c.execute(NW_Query)\n",
    "rows = c.fetchall()\n",
    "print_query(rows)"
   ]
  },
  {
   "cell_type": "markdown",
   "metadata": {},
   "source": [
    "### *Top 10 fast food restaurants in the area*"
   ]
  },
  {
   "cell_type": "code",
   "execution_count": 3,
   "metadata": {
    "collapsed": true
   },
   "outputs": [],
   "source": [
    "fast_food_Query = '''\n",
    "SELECT value, count(*) as num FROM\n",
    "    (SELECT * FROM\n",
    "        (SELECT * FROM nodes_tags UNION ALL SELECT * FROM ways_tags) as i\n",
    "        JOIN\n",
    "        (SELECT DISTINCT(id) FROM\n",
    "            (SELECT * FROM nodes_tags UNION ALL SELECT * FROM ways_tags) as i\n",
    "            WHERE key = 'amenity' AND value = 'fast_food'\n",
    "        ) as J\n",
    "        ON i.id = j.id\n",
    "    WHERE i.key = 'name'\n",
    "    )\n",
    "GROUP BY value\n",
    "ORDER BY num desc limit 10;\n",
    "'''"
   ]
  },
  {
   "cell_type": "code",
   "execution_count": 4,
   "metadata": {},
   "outputs": [
    {
     "name": "stdout",
     "output_type": "stream",
     "text": [
      "Subway  |  143  |  \n",
      "McDonald's  |  75  |  \n",
      "Taco Bell  |  56  |  \n",
      "Burger King  |  39  |  \n",
      "Wendy's  |  32  |  \n",
      "Jack in the Box  |  30  |  \n",
      "Burgerville  |  27  |  \n",
      "Panda Express  |  26  |  \n",
      "Carl's Jr.  |  21  |  \n",
      "Chipotle  |  21  |  \n"
     ]
    }
   ],
   "source": [
    "c.execute(fast_food_Query)\n",
    "rows = c.fetchall()\n",
    "print_query(rows)\n",
    "db.close()"
   ]
  },
  {
   "cell_type": "markdown",
   "metadata": {},
   "source": [
    "## Idea for Improvement - Nodes vs Ways and What They Represent"
   ]
  },
  {
   "cell_type": "markdown",
   "metadata": {},
   "source": [
    "One of the issues that makes this dataset inconsistent is the fact that certain items on the map exist in both “node” elements and “way” elements (specifically closed ways where first and last nodes are the same). As an example, the query below shows the number of “amenity\" tags  in “ways” and “nodes”."
   ]
  },
  {
   "cell_type": "code",
   "execution_count": 67,
   "metadata": {},
   "outputs": [
    {
     "name": "stdout",
     "output_type": "stream",
     "text": [
      "11280  |  \n",
      "12647  |  \n"
     ]
    }
   ],
   "source": [
    "amenity_Query = '''\n",
    "SELECT count(DISTINCT(id)) FROM nodes_tags\n",
    "WHERE key = 'amenity'\n",
    "UNION\n",
    "SELECT count(DISTINCT(id)) FROM ways_tags\n",
    "WHERE key = 'amenity';\n",
    "'''\n",
    "c.execute(amenity_Query)\n",
    "rows = c.fetchall()\n",
    "print_query(rows)"
   ]
  },
  {
   "cell_type": "markdown",
   "metadata": {},
   "source": [
    "The first result (11280) is the number of \"node\" elements representing amenities in the area and the second result (12467) is the number of amenities represented in \"way\" elements. As you can see, the results are alomst equally split between nodes and ways. Further investigation reveals that we can find almost all types of amenities in both elements. This has multiple disadvantages including increasing processing time for auditing, cleaning, and querying the data and also making SQL queries longer and more complicated.\n",
    "\n",
    "Standardizing the items that are included in each element in the dataset would definitely make the data cleaner and more easily understandable. Closed ways should refer to large enough areas that cannot be represent by a single node. This way we can come up with a better definition of nodes vs ways in the dataset."
   ]
  }
 ],
 "metadata": {
  "kernelspec": {
   "display_name": "Python [default]",
   "language": "python",
   "name": "python2"
  },
  "language_info": {
   "codemirror_mode": {
    "name": "ipython",
    "version": 2
   },
   "file_extension": ".py",
   "mimetype": "text/x-python",
   "name": "python",
   "nbconvert_exporter": "python",
   "pygments_lexer": "ipython2",
   "version": "2.7.13"
  }
 },
 "nbformat": 4,
 "nbformat_minor": 2
}
